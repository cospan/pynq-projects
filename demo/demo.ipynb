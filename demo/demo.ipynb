{
 "cells": [
  {
   "cell_type": "code",
   "execution_count": 1,
   "metadata": {},
   "outputs": [
    {
     "data": {
      "application/javascript": [
       "\n",
       "try {\n",
       "require(['notebook/js/codecell'], function(codecell) {\n",
       "  codecell.CodeCell.options_default.highlight_modes[\n",
       "      'magic_text/x-csrc'] = {'reg':[/^%%microblaze/]};\n",
       "  Jupyter.notebook.events.one('kernel_ready.Kernel', function(){\n",
       "      Jupyter.notebook.get_cells().map(function(cell){\n",
       "          if (cell.cell_type == 'code'){ cell.auto_highlight(); } }) ;\n",
       "  });\n",
       "});\n",
       "} catch (e) {};\n"
      ]
     },
     "metadata": {},
     "output_type": "display_data"
    },
    {
     "data": {
      "application/javascript": [
       "\n",
       "try {\n",
       "require(['notebook/js/codecell'], function(codecell) {\n",
       "  codecell.CodeCell.options_default.highlight_modes[\n",
       "      'magic_text/x-csrc'] = {'reg':[/^%%pybind11/]};\n",
       "  Jupyter.notebook.events.one('kernel_ready.Kernel', function(){\n",
       "      Jupyter.notebook.get_cells().map(function(cell){\n",
       "          if (cell.cell_type == 'code'){ cell.auto_highlight(); } }) ;\n",
       "  });\n",
       "});\n",
       "} catch (e) {};\n"
      ]
     },
     "metadata": {},
     "output_type": "display_data"
    },
    {
     "name": "stdout",
     "output_type": "stream",
     "text": [
      "Found bit file!\n",
      "Bitfile downloaded!\n"
     ]
    }
   ],
   "source": [
    "import os\n",
    "import sys\n",
    "import warnings\n",
    "import time\n",
    "from pynq import PL\n",
    "from pynq import Overlay\n",
    "\n",
    "\n",
    "BF = os.path.join(\"./data/system_wrapper.bit\")\n",
    "\n",
    "\n",
    "\n",
    "if not os.path.exists(BF):\n",
    "    print (\"%s Doesn't exist!\" % BF)\n",
    "else:\n",
    "    print (\"Found bit file!\")\n",
    "    \n",
    "    ol = Overlay(BF)\n",
    "    ol.download()\n",
    "\n",
    "    print (\"Bitfile downloaded!\")\n",
    "\n"
   ]
  },
  {
   "cell_type": "code",
   "execution_count": null,
   "metadata": {},
   "outputs": [],
   "source": [
    "import os,sys,inspect\n",
    "currentdir = os.path.dirname(os.path.abspath(inspect.getfile(inspect.currentframe())))\n",
    "parentdir = os.path.dirname(currentdir)\n",
    "sys.path.insert(0,parentdir) \n",
    "\n",
    "from pynq.lib.video import *\n",
    "from pynq.lib.video.hierarchies import *\n",
    "from drivers.video_mixer import VideoMixer\n",
    "from drivers.dynamic_clock import DynamicClock\n",
    "from drivers.timing_controller import TimingController\n",
    "from drivers.test_pattern_generator import TestPatternGenerator\n",
    "\n",
    "\n",
    "                \n",
    "print (\"Starting Video\")\n",
    "\n",
    "print (\"Configuring Timing Controller\")\n",
    "tc = TimingController(\"video/timing_generator\")\n",
    "tc.reset()\n",
    "while (not tc.is_reset_done()):\n",
    "    print (\".\")\n",
    "\n",
    "WIDTH   = tc.get_generator_width()\n",
    "HEIGHT  = tc.get_generator_height()\n",
    "print (\"Image Size (Retrieved from Timing Controller): %d x %d\" % (WIDTH, HEIGHT))\n",
    "print (\"Configuring Test Pattern Generator\")\n",
    "tpg = TestPatternGenerator(\"video/v_tpg_0\", debug = False)\n",
    "tpg.set_image_size(WIDTH, HEIGHT)\n",
    "tpg.set_color_format_to_rgb()\n",
    "tpg.set_color_bar_test_pattern()\n",
    "tpg.start()\n",
    "\n",
    "print (\"Configuring Video Mixer\")\n",
    "vm = VideoMixer(\"video/v_mix_0\", WIDTH, HEIGHT)\n",
    "vm.configure_layer(0, 0, 0, WIDTH, HEIGHT)\n",
    "vm.configure_master_layer(WIDTH, HEIGHT)\n",
    "#vm.configure_layer(1, 0, 0, WIDTH, HEIGHT)\n",
    "#vm.enable_overlay_layer(True)\n",
    "\n",
    "#print (\"Video Mixer Control Register Before Enable: 0x%08X\" % vm.get_control())\n",
    "vm.start()\n",
    "\n",
    "#print (\"Video Mixer Control Register After Enable: 0x%08X\" % vm.get_control())\n",
    "print (\"Enable Master Layer (Test Pattern) Output\")\n",
    "vm.enable_master_layer(True)\n",
    "#print (\"VM Settings:\")\n",
    "#print (\"  x pos:   %d\" % vm.get_layer_x(0))\n",
    "#print (\"  y pos:   %d\" % vm.get_layer_y(0))\n",
    "#print (\"  width:   %d\" % vm.get_layer_width(0))\n",
    "#print (\"  height:  %d\" % vm.get_layer_height(0))\n",
    "#print (\"  scale:   %d\" % vm.get_layer_scale(0))\n",
    "#print (\"  alpha:   %d\" % vm.get_layer_alpha(0))\n",
    "#print (\"  stride:  %d\" % vm.get_layer_stride(0))\n",
    "#print (\"  p1 Addr: %d\" % vm.get_layer_plane1_addr(0))\n",
    "#print (\"  p2 Addr: %d\" % vm.get_layer_plane2_addr(0))\n",
    "\n",
    "#print (\"Layer Settings: 0x%08X\" % vm.get_layer_enable_reg())\n",
    "\n",
    "g0 = ol.low_speed.axi_gpio_0\n",
    "g0.write(0x0C, 0x01)\n",
    "tc.enable(gen_enable = True, use_gen_src = True)\n",
    "#print (\"TC Control Register: 0x%08X\" % tc.get_control_reg())\n",
    "\n"
   ]
  },
  {
   "cell_type": "code",
   "execution_count": 4,
   "metadata": {},
   "outputs": [
    {
     "name": "stdout",
     "output_type": "stream",
     "text": [
      "dict_keys(['axi_bram_ctrl_0', 'axi_dma_0', 'low_speed/axi_gpio_2', 'low_speed/axi_gpio_1', 'low_speed/axi_gpio_0', 'axi_interrupt_0', 'video/timing_generator', 'video/v_mix_0', 'video/v_tpg_0', 'demo_axi_streams_0', 'video/axi_graphics_0', 'processing_system7_0'])\n",
      "Base Addr:           0x43C30000\n",
      "Address Length:      0x00010000\n",
      "Version: 0x10000000\n",
      "Control: 0x00000000\n"
     ]
    }
   ],
   "source": [
    "import os,sys,inspect\n",
    "currentdir = os.path.dirname(os.path.abspath(inspect.getfile(inspect.currentframe())))\n",
    "parentdir = os.path.dirname(currentdir)\n",
    "sys.path.insert(0,parentdir) \n",
    "\n",
    "from pynq.lib.video import *\n",
    "from pynq.lib.video.hierarchies import *\n",
    "from drivers.video_mixer import VideoMixer\n",
    "from drivers.dynamic_clock import DynamicClock\n",
    "from drivers.timing_controller import TimingController\n",
    "from drivers.test_pattern_generator import TestPatternGenerator\n",
    "from drivers.demo_axi_streams_driver import DemoAXIStreamsDriver\n",
    "from drivers.sdma import SDMA\n",
    "\n",
    "DEBUG = False\n",
    "DEBUG = True\n",
    "\n",
    "                \n",
    "print (ol.ip_dict.keys())\n",
    "#print (ol.ip_dict['demo_axi_streams_0'])\n",
    "\n",
    "das = DemoAXIStreamsDriver('demo_axi_streams_0', debug = DEBUG)\n",
    "#sdma = SDMA('axi_dma_0', 'axi_bram_ctrl_0', debug=DEBUG)\n",
    "\n",
    "print (\"Version: 0x%08X\" % das.get_version())\n",
    "print (\"Control: 0x%08X\" % das.get_control())\n"
   ]
  }
 ],
 "metadata": {
  "kernelspec": {
   "display_name": "Python 3",
   "language": "python",
   "name": "python3"
  },
  "language_info": {
   "codemirror_mode": {
    "name": "ipython",
    "version": 3
   },
   "file_extension": ".py",
   "mimetype": "text/x-python",
   "name": "python",
   "nbconvert_exporter": "python",
   "pygments_lexer": "ipython3",
   "version": "3.6.5"
  }
 },
 "nbformat": 4,
 "nbformat_minor": 2
}
