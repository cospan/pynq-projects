{
 "cells": [
  {
   "cell_type": "code",
   "execution_count": 1,
   "metadata": {},
   "outputs": [
    {
     "data": {
      "application/javascript": [
       "\n",
       "try {\n",
       "require(['notebook/js/codecell'], function(codecell) {\n",
       "  codecell.CodeCell.options_default.highlight_modes[\n",
       "      'magic_text/x-csrc'] = {'reg':[/^%%microblaze/]};\n",
       "  Jupyter.notebook.events.one('kernel_ready.Kernel', function(){\n",
       "      Jupyter.notebook.get_cells().map(function(cell){\n",
       "          if (cell.cell_type == 'code'){ cell.auto_highlight(); } }) ;\n",
       "  });\n",
       "});\n",
       "} catch (e) {};\n"
      ]
     },
     "metadata": {},
     "output_type": "display_data"
    },
    {
     "data": {
      "application/javascript": [
       "\n",
       "try {\n",
       "require(['notebook/js/codecell'], function(codecell) {\n",
       "  codecell.CodeCell.options_default.highlight_modes[\n",
       "      'magic_text/x-csrc'] = {'reg':[/^%%pybind11/]};\n",
       "  Jupyter.notebook.events.one('kernel_ready.Kernel', function(){\n",
       "      Jupyter.notebook.get_cells().map(function(cell){\n",
       "          if (cell.cell_type == 'code'){ cell.auto_highlight(); } }) ;\n",
       "  });\n",
       "});\n",
       "} catch (e) {};\n"
      ]
     },
     "metadata": {},
     "output_type": "display_data"
    },
    {
     "name": "stdout",
     "output_type": "stream",
     "text": [
      "Found bit file!\n",
      "Bitfile downloaded!\n"
     ]
    }
   ],
   "source": [
    "import os\n",
    "import sys\n",
    "import warnings\n",
    "import time\n",
    "from pynq import PL\n",
    "from pynq import Overlay\n",
    "\n",
    "\n",
    "BF = os.path.join(\"./data/system_wrapper.bit\")\n",
    "\n",
    "# Download the bitfile\n",
    "\n",
    "if not os.path.exists(BF):\n",
    "    print (\"%s Doesn't exist!\" % BF)\n",
    "else:\n",
    "    print (\"Found bit file!\")\n",
    "    \n",
    "    ol = Overlay(BF)\n",
    "    ol.download()\n",
    "\n",
    "    print (\"Bitfile downloaded!\")\n",
    "\n"
   ]
  },
  {
   "cell_type": "code",
   "execution_count": 7,
   "metadata": {},
   "outputs": [
    {
     "name": "stdout",
     "output_type": "stream",
     "text": [
      "Demo AXIStreamsDriver Version: 0x10000000\n",
      "sbuffer before transaction: [[ 0  1  2  3  4  5  6  7  8  9 10 11 12 13 14 15]]\n",
      "rbuffer before transaction: [[0 0 0 0 0 0 0 0 0 0 0 0 0 0 0 0]]\n",
      "\n",
      "rbuffer after transaction: [[ 0  1  2  3  4  5  6  7  8  9 10 11 12 13 14 15]]\n"
     ]
    }
   ],
   "source": [
    "import os,sys,inspect\n",
    "currentdir = os.path.dirname(os.path.abspath(inspect.getfile(inspect.currentframe())))\n",
    "parentdir = os.path.dirname(currentdir)\n",
    "sys.path.insert(0,parentdir) \n",
    "\n",
    "import warnings\n",
    "import time\n",
    "from pynq import PL\n",
    "from pynq import Overlay\n",
    "from pynq import allocate\n",
    "from pynq.lib.dma import DMA\n",
    "\n",
    "from drivers.demo_axi_streams_driver import DemoAXIStreamsDriver\n",
    "\n",
    "\n",
    "das = DemoAXIStreamsDriver('demo_axi_streams_0', debug = False)\n",
    "print (\"Demo AXIStreamsDriver Version: 0x%08X\" % das.get_version())\n",
    "\n",
    "# Setup the DMA Writer and Reader\n",
    "BUFFER_SIZE = 16\n",
    "dma_writer = DMA(PL.ip_dict[\"axi_dma_writer\"])\n",
    "dma_reader = DMA(PL.ip_dict[\"axi_dma_reader\"])\n",
    "sbuffer = allocate([1, BUFFER_SIZE], dtype='u4')\n",
    "rbuffer = allocate([1, BUFFER_SIZE], dtype='u4')\n",
    "\n",
    "for i in range(BUFFER_SIZE):\n",
    "    sbuffer[0][i] = i\n",
    "    rbuffer[0][i] = 0\n",
    "\n",
    "print (\"sbuffer before transaction: %s\" % str(sbuffer))\n",
    "print (\"rbuffer before transaction: %s\" % str(rbuffer))\n",
    "print (\"\")\n",
    "\n",
    "dma_writer.set_up_tx_channel()\n",
    "dma_writer.sendchannel.transfer(sbuffer, start = 0, nbytes=BUFFER_SIZE * 4)\n",
    "dma_writer.sendchannel.start()\n",
    "dma_writer.sendchannel.wait()\n",
    "\n",
    "\n",
    "dma_reader.set_up_rx_channel()\n",
    "buf = [0] * BUFFER_SIZE\n",
    "dma_reader.recvchannel.transfer(rbuffer, start = 0, nbytes=BUFFER_SIZE * 4)\n",
    "dma_reader.recvchannel.start()\n",
    "dma_reader.recvchannel.wait()\n",
    "\n",
    "print (\"rbuffer after transaction: %s\" % str(rbuffer))\n",
    "\n",
    "if sbuffer is not None:\n",
    "    sbuffer.freebuffer()\n",
    "\n",
    "if rbuffer is not None:\n",
    "    rbuffer.freebuffer()"
   ]
  }
 ],
 "metadata": {
  "kernelspec": {
   "display_name": "Python 3",
   "language": "python",
   "name": "python3"
  },
  "language_info": {
   "codemirror_mode": {
    "name": "ipython",
    "version": 3
   },
   "file_extension": ".py",
   "mimetype": "text/x-python",
   "name": "python",
   "nbconvert_exporter": "python",
   "pygments_lexer": "ipython3",
   "version": "3.6.5"
  }
 },
 "nbformat": 4,
 "nbformat_minor": 2
}
