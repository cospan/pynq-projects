{
 "cells": [
  {
   "cell_type": "code",
   "execution_count": 1,
   "metadata": {},
   "outputs": [
    {
     "data": {
      "application/javascript": [
       "\n",
       "try {\n",
       "require(['notebook/js/codecell'], function(codecell) {\n",
       "  codecell.CodeCell.options_default.highlight_modes[\n",
       "      'magic_text/x-csrc'] = {'reg':[/^%%microblaze/]};\n",
       "  Jupyter.notebook.events.one('kernel_ready.Kernel', function(){\n",
       "      Jupyter.notebook.get_cells().map(function(cell){\n",
       "          if (cell.cell_type == 'code'){ cell.auto_highlight(); } }) ;\n",
       "  });\n",
       "});\n",
       "} catch (e) {};\n"
      ]
     },
     "metadata": {},
     "output_type": "display_data"
    },
    {
     "data": {
      "application/javascript": [
       "\n",
       "try {\n",
       "require(['notebook/js/codecell'], function(codecell) {\n",
       "  codecell.CodeCell.options_default.highlight_modes[\n",
       "      'magic_text/x-csrc'] = {'reg':[/^%%pybind11/]};\n",
       "  Jupyter.notebook.events.one('kernel_ready.Kernel', function(){\n",
       "      Jupyter.notebook.get_cells().map(function(cell){\n",
       "          if (cell.cell_type == 'code'){ cell.auto_highlight(); } }) ;\n",
       "  });\n",
       "});\n",
       "} catch (e) {};\n"
      ]
     },
     "metadata": {},
     "output_type": "display_data"
    },
    {
     "name": "stdout",
     "output_type": "stream",
     "text": [
      "Found bit file!\n",
      "Bitfile downloaded!\n"
     ]
    }
   ],
   "source": [
    "import os\n",
    "import sys\n",
    "import warnings\n",
    "import time\n",
    "from pynq import PL\n",
    "from pynq import Overlay\n",
    "\n",
    "BF = os.path.join(\"./data/system_wrapper.bit\")\n",
    "\n",
    "# Download the bitfile\n",
    "\n",
    "if not os.path.exists(BF):\n",
    "    print (\"%s Doesn't exist!\" % BF)\n",
    "else:\n",
    "    print (\"Found bit file!\")\n",
    "    \n",
    "    ol = Overlay(BF)\n",
    "    ol.download()\n",
    "\n",
    "    print (\"Bitfile downloaded!\")"
   ]
  },
  {
   "cell_type": "code",
   "execution_count": 2,
   "metadata": {},
   "outputs": [
    {
     "name": "stdout",
     "output_type": "stream",
     "text": [
      "Initialize Cores\n",
      "Configure Test Pattern\n",
      "Configure AXI VDMA\n",
      "Configuring Video Mixer\n",
      "Initialize AXI Graphics Enable\n",
      "Color Bars should be on HDMI Display\n"
     ]
    }
   ],
   "source": [
    "%matplotlib inline\n",
    "import os,sys,inspect\n",
    "import argparse\n",
    "import warnings\n",
    "import time\n",
    "from pynq import PL\n",
    "from pynq import Overlay\n",
    "from pynq.lib.video import *\n",
    "from pynq.lib.video.hierarchies import *\n",
    "\n",
    "currentdir = os.path.dirname(os.path.abspath(inspect.getfile(inspect.currentframe())))\n",
    "parentdir = os.path.dirname(currentdir)\n",
    "sys.path.insert(0,parentdir) \n",
    "\n",
    "from drivers.video_mixer import VideoMixer\n",
    "from drivers.dynamic_clock import DynamicClock\n",
    "from drivers.timing_controller import TimingController\n",
    "from drivers.test_pattern_generator import TestPatternGenerator\n",
    "from drivers.test_pattern_generator import TestPatternID\n",
    "from drivers.axi_graphics import AXIGraphics\n",
    "from drivers.axi_stream_interconnect import AXISInterconnect\n",
    "from PIL import Image\n",
    "\n",
    "DEBUG   = False\n",
    "ENABLE_VDMA_WRITE = False\n",
    "ENABLE_VDMA_READ = False\n",
    "\n",
    "# Instantiate All Cores\n",
    "print (\"Initialize Cores\")\n",
    "ai = AXISInterconnect(\"video/axis_interconnect_0/xbar\")\n",
    "tc = TimingController(\"video/timing_generator\")\n",
    "tpg = TestPatternGenerator(\"video/v_tpg_0\")\n",
    "#vdma_h2c = AxiVDMA(ol.ip_dict[\"video/axi_vdma_h2c\"])\n",
    "#vdma_c2h = AxiVDMA(ol.ip_dict[\"video/axi_vdma_c2h\"])\n",
    "ag = AXIGraphics(\"video/axi_graphics_0\")\n",
    "g0 = ol.low_speed.axi_gpio_0\n",
    "\n",
    "tc.reset()\n",
    "while (not tc.is_reset_done()):\n",
    "    print (\".\")\n",
    "\n",
    "WIDTH   = tc.get_generator_width()\n",
    "HEIGHT  = tc.get_generator_height()\n",
    "\n",
    "vm = VideoMixer(\"video/v_mix_0\", WIDTH, HEIGHT)\n",
    "\n",
    "# Configure Sub Window\n",
    "\n",
    "#SUB_WIN_WIDTH = 1920\n",
    "#SUB_WIN_HEIGHT = 1080\n",
    "SUB_WIN_WIDTH = 640\n",
    "SUB_WIN_HEIGHT = 480\n",
    "#SUB_WIN_WIDTH = 16\n",
    "#SUB_WIN_HEIGHT = 4\n",
    "#SUB_WIN_WIDTH = WIDTH\n",
    "#SUB_WIN_HEIGHT = HEIGHT\n",
    "\n",
    "# Configure AXI Stream Routes\n",
    "ai.set_route(0, 0)  # From VMIX To output screen\n",
    "\n",
    "# Test Pattern\n",
    "print (\"Configure Test Pattern\")\n",
    "tpg.set_image_size(WIDTH, HEIGHT)\n",
    "tpg.set_color_format_to_rgb()\n",
    "#tpg.set_color_bar_test_pattern()\n",
    "#tpg.set_test_pattern(TestPatternID.SOLID_RED)\n",
    "#tpg.set_test_pattern(TestPatternID.SOLID_WHITE)\n",
    "tpg.set_test_pattern(TestPatternID.SOLID_BLACK)\n",
    "#tpg.set_test_pattern(TestPatternID.COLOR_BARS)\n",
    "tpg.start()\n",
    "\n",
    "\n",
    "# Configure VDMA\n",
    "print (\"Configure AXI VDMA\")\n",
    "mode = VideoMode(SUB_WIN_WIDTH, SUB_WIN_HEIGHT, 24)\n",
    "vdma_h2c = AxiVDMA(ol.ip_dict[\"video/axi_vdma_h2c\"])\n",
    "vdma_h2c.writechannel.mode = VideoMode(SUB_WIN_WIDTH, SUB_WIN_HEIGHT, 24)\n",
    "vdma_h2c.writechannel.parked = True\n",
    "vdma_h2c.writechannel.start()\n",
    "\n",
    "#vdma_c2h = AxiVDMA(ol.ip_dict[\"video/axi_vdma_c2h\"])\n",
    "#vdma_c2h.readchannel.reset()\n",
    "\n",
    "# Configure Video Mixer\n",
    "print (\"Configuring Video Mixer\")\n",
    "vm = VideoMixer(\"video/v_mix_0\", WIDTH, HEIGHT)\n",
    "vm.configure_layer(1, 0,                        0, SUB_WIN_WIDTH, SUB_WIN_HEIGHT)\n",
    "vm.enable_layer(1, True)\n",
    "vm.configure_master_layer(WIDTH, HEIGHT)\n",
    "vm.start()\n",
    "vm.enable_master_layer(True)\n",
    "\n",
    "# GPIO\n",
    "g0.write(0x0C, 0x01)\n",
    "\n",
    "# Enable Timing Control\n",
    "tc.enable(gen_enable = True, use_gen_src = True)\n",
    "\n",
    "# AXI Graphics\n",
    "print (\"Initialize AXI Graphics Enable\")\n",
    "ag.set_width(SUB_WIN_WIDTH)\n",
    "ag.set_height(SUB_WIN_HEIGHT)\n",
    "#ag.set_mode(0)  # Black\n",
    "#ag.set_mode(1)  # White\n",
    "#ag.set_mode(2)  # Red\n",
    "#ag.set_mode(3)  # Green\n",
    "#ag.set_mode(4)  # Blue\n",
    "ag.set_mode(5)  # Color Bars\n",
    "#ag.set_mode(6)  # Block\n",
    "#ag.set_mode(7)  # Ramp\n",
    "ag.set_alpha(0xFF)\n",
    "ag.set_ref0_xy(100, 100)\n",
    "ag.set_ref1_xy(200, 200)\n",
    "ag.set_interval(100)\n",
    "ag.enable_rgba_format(True)\n",
    "#ag.enable_rgba_format(False)\n",
    "ag.enable(True)\n",
    "\n",
    "print (\"Color Bars should be on HDMI Display\")"
   ]
  },
  {
   "cell_type": "code",
   "execution_count": 3,
   "metadata": {},
   "outputs": [
    {
     "name": "stdout",
     "output_type": "stream",
     "text": [
      "Configure AXI Graphics\n"
     ]
    },
    {
     "data": {
      "application/vnd.jupyter.widget-view+json": {
       "model_id": "0fd710a50fc74538abf62ce711fd63cf",
       "version_major": 2,
       "version_minor": 0
      },
      "text/plain": [
       "VBox(children=(Dropdown(description='Mode', index=5, options=(('Black Image', 0), ('White Image', 1), ('Red Im…"
      ]
     },
     "metadata": {},
     "output_type": "display_data"
    }
   ],
   "source": [
    "print (\"Configure AXI Graphics\")\n",
    "from IPython.display import display, Markdown, clear_output\n",
    "import ipywidgets as widgets\n",
    "\n",
    "out = widgets.Output()\n",
    "#ag.set_alpha(0xFF)\n",
    "#ag.set_ref0_xy(100, 100)\n",
    "#ag.set_ref1_xy(200, 200)\n",
    "#ag.enable(True)\n",
    "\n",
    "g_dropdown = widgets.Dropdown(\n",
    "    options = [   (\"Black Image\", 0),\n",
    "                  (\"White Image\", 1),\n",
    "                  (\"Red Image\",   2),\n",
    "                  (\"Green Image\", 3),\n",
    "                  (\"Blue Image\",  4),\n",
    "                  (\"Color Bars\",  5),\n",
    "                  (\"Block\",       6),\n",
    "                  (\"Ramp\",        7)],\n",
    "    value = 5,\n",
    "    description = \"Mode\")\n",
    "\n",
    "def mode_change_event(change_event):\n",
    "    global g_dropdown\n",
    "    if change_event['type'] == 'change' and change_event['name'] == 'value':\n",
    "        ag.set_mode(g_dropdown.value)\n",
    "    \n",
    "g_dropdown.observe(mode_change_event)\n",
    "\n",
    "widgets.VBox([g_dropdown,out])"
   ]
  },
  {
   "cell_type": "code",
   "execution_count": 4,
   "metadata": {},
   "outputs": [
    {
     "name": "stdout",
     "output_type": "stream",
     "text": [
      "Enable VDMA Notebook to FPGA\n"
     ]
    },
    {
     "data": {
      "application/vnd.jupyter.widget-view+json": {
       "model_id": "3d23b528732749bb98114f1c06368d0f",
       "version_major": 2,
       "version_minor": 0
      },
      "text/plain": [
       "VBox(children=(HBox(children=(Button(description='Send Red Frame', style=ButtonStyle()), Button(description='S…"
      ]
     },
     "metadata": {},
     "output_type": "display_data"
    }
   ],
   "source": [
    "print (\"Enable VDMA Notebook to FPGA\")\n",
    "\n",
    "from IPython.display import display, Markdown, clear_output\n",
    "import ipywidgets as widgets\n",
    "from matplotlib.pyplot import imshow\n",
    "import numpy as np\n",
    "from PIL import Image\n",
    "\n",
    "\n",
    "mode = VideoMode(SUB_WIN_WIDTH, SUB_WIN_HEIGHT, 24)\n",
    "vdma_h2c = AxiVDMA(ol.ip_dict[\"video/axi_vdma_h2c\"])\n",
    "vdma_h2c.writechannel.mode = VideoMode(SUB_WIN_WIDTH, SUB_WIN_HEIGHT, 24)\n",
    "vdma_h2c.writechannel.reset()\n",
    "vdma_h2c.writechannel.parked = True\n",
    "vdma_h2c.writechannel.start()\n",
    "\n",
    "# Configure the Video Mixer Channel\n",
    "vm.configure_layer(2, SUB_WIN_WIDTH,            0, SUB_WIN_WIDTH, SUB_WIN_HEIGHT)\n",
    "vm.enable_layer(2, True)\n",
    "\n",
    "send_red_button = widgets.Button(description='Send Red Frame')\n",
    "send_art_button = widgets.Button(description='Send Art')\n",
    "out = widgets.Output()\n",
    "\n",
    "def send_red_button_clicked(_):\n",
    "    with out:\n",
    "        print (\"Send a Red Frame through VDMA\")\n",
    "        write_frame = vdma_h2c.writechannel.newframe()\n",
    "        for y in range(write_frame.shape[0]):\n",
    "            for x in range(write_frame.shape[1]):\n",
    "                write_frame[y, x, 0] = 0xFF\n",
    "                write_frame[y, x, 1] = 0x00\n",
    "                write_frame[y, x, 2] = 0x00\n",
    "        vdma_h2c.writechannel.writeframe(write_frame)\n",
    "\n",
    "def send_art_button_clicked(_):\n",
    "    with out:\n",
    "        print (\"Send Art Frame through VDMA\")\n",
    "        pil_im = Image.open('art.png', 'r')\n",
    "        write_frame = vdma_h2c.writechannel.newframe()\n",
    "        write_frame[:] = np.asarray(pil_im)\n",
    "        vdma_h2c.writechannel.writeframe(write_frame)\n",
    "\n",
    "send_red_button.on_click(send_red_button_clicked)\n",
    "send_art_button.on_click(send_art_button_clicked)\n",
    "\n",
    "widgets_view = widgets.HBox([send_red_button, send_art_button])\n",
    "widgets.VBox([widgets_view,out])\n"
   ]
  },
  {
   "cell_type": "code",
   "execution_count": 5,
   "metadata": {},
   "outputs": [
    {
     "name": "stdout",
     "output_type": "stream",
     "text": [
      "Capture a frame using VDMA Read\n"
     ]
    },
    {
     "data": {
      "application/vnd.jupyter.widget-view+json": {
       "model_id": "173fde5e26ef4a9cb346dd21eac6411a",
       "version_major": 2,
       "version_minor": 0
      },
      "text/plain": [
       "VBox(children=(Button(description='Capture Image', style=ButtonStyle()), Output()))"
      ]
     },
     "metadata": {},
     "output_type": "display_data"
    },
    {
     "data": {
      "image/png": "[encoded data removed]",
      "text/plain": [
       "<matplotlib.figure.Figure at 0xae078190>"
      ]
     },
     "metadata": {},
     "output_type": "display_data"
    }
   ],
   "source": [
    "print (\"Capture a frame using VDMA Read\")\n",
    "from IPython.display import display, Markdown, clear_output\n",
    "import ipywidgets as widgets\n",
    "from matplotlib.pyplot import imshow\n",
    "import numpy as np\n",
    "from PIL import Image\n",
    "\n",
    "\n",
    "\n",
    "\n",
    "\n",
    "button = widgets.Button(description='Capture Image')\n",
    "out = widgets.Output()\n",
    "def on_button_clicked(_):\n",
    "    # \"linking function with output\"\n",
    "    with out:\n",
    "        # what happens when we press the button\n",
    "        #clear_output()\n",
    "        print (\"Change the route of the AXI Stream Interconnect to route video from the Video Mixer to the Capture VDMA\")\n",
    "        ai.disable_all_routes()\n",
    "        ai.set_route(0, 1)  # From VMIX To Capture VDMA\n",
    "        vdma_c2h = AxiVDMA(ol.ip_dict[\"video/axi_vdma_c2h\"])\n",
    "        vdma_c2h.readchannel.reset()\n",
    "        vdma_c2h.readchannel.mode = VideoMode(WIDTH, HEIGHT, 24)\n",
    "        vdma_c2h.readchannel.start()\n",
    "        frame = vdma_c2h.readchannel.readframe()\n",
    "        vdma_c2h.readchannel.stop()\n",
    "        print (\"Change the route of the AXI Stream Interconnect to route video from the Video Mixer to the HDMI\")\n",
    "        ai.disable_all_routes()\n",
    "        ai.set_route(0, 0)  # From VMIX To output screen\n",
    "        im = Image.fromarray(frame)\n",
    "        imshow(im)\n",
    "            \n",
    "# linking button and function together using a button's method\n",
    "button.on_click(on_button_clicked)\n",
    "# displaying button and its output together\n",
    "widgets.VBox([button,out])"
   ]
  }
 ],
 "metadata": {
  "kernelspec": {
   "display_name": "Python 3",
   "language": "python",
   "name": "python3"
  },
  "language_info": {
   "codemirror_mode": {
    "name": "ipython",
    "version": 3
   },
   "file_extension": ".py",
   "mimetype": "text/x-python",
   "name": "python",
   "nbconvert_exporter": "python",
   "pygments_lexer": "ipython3",
   "version": "3.6.5"
  }
 },
 "nbformat": 4,
 "nbformat_minor": 2
}
